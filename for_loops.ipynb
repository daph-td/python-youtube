{
 "cells": [
  {
   "cell_type": "markdown",
   "metadata": {},
   "source": [
    "##### Example 2: Calculate the Average of all numbers"
   ]
  },
  {
   "cell_type": "code",
   "execution_count": 5,
   "metadata": {},
   "outputs": [
    {
     "name": "stdout",
     "output_type": "stream",
     "text": [
      "Final result 29.25\n"
     ]
    }
   ],
   "source": [
    "numbers = [12, 25, 33, 47]\n",
    "\n",
    "total = 0\n",
    "length = 0\n",
    "for num in numbers:\n",
    "    total = total + num\n",
    "    length = length + 1 \n",
    "\n",
    "average = total / length\n",
    "print(f\"Final result {average}\")\n",
    "\n",
    "\n",
    "\n"
   ]
  },
  {
   "cell_type": "code",
   "execution_count": 6,
   "metadata": {},
   "outputs": [
    {
     "data": {
      "text/plain": [
       "29.25"
      ]
     },
     "execution_count": 6,
     "metadata": {},
     "output_type": "execute_result"
    }
   ],
   "source": [
    "117/4"
   ]
  },
  {
   "cell_type": "markdown",
   "metadata": {},
   "source": [
    "#### Draft\n",
    "- Step 1. Work example by hand\n",
    "- Step 2. Write down what you did\n",
    "- Step 3. Find patterns / Generalize\n",
    "- Step 4. Translate to code"
   ]
  },
  {
   "cell_type": "raw",
   "metadata": {},
   "source": [
    "Step 3:\n",
    "\n",
    "total = 117\n",
    "average = total / length of numbers\n",
    "length of numbers = ??\n",
    "\n",
    "    -> count length = 0\n",
    "1st -> count length = 1 -> length = length + 1\n",
    "2nd -> count length = 2 -> length = length + 1\n",
    "3rd -> count length = 3 -> length = length + 1\n",
    "4th -> count length = 4 -> length = length + 1 \n",
    "\n",
    "Pattern:\n",
    "length = 0\n",
    "length = length + 1"
   ]
  }
 ],
 "metadata": {
  "kernelspec": {
   "display_name": "base",
   "language": "python",
   "name": "python3"
  },
  "language_info": {
   "codemirror_mode": {
    "name": "ipython",
    "version": 3
   },
   "file_extension": ".py",
   "mimetype": "text/x-python",
   "name": "python",
   "nbconvert_exporter": "python",
   "pygments_lexer": "ipython3",
   "version": "3.9.13"
  }
 },
 "nbformat": 4,
 "nbformat_minor": 2
}
