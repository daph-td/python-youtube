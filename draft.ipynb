{
 "cells": [
  {
   "cell_type": "code",
   "execution_count": 1,
   "id": "d7b1f880",
   "metadata": {},
   "outputs": [
    {
     "name": "stdout",
     "output_type": "stream",
     "text": [
      "12\n",
      "37\n",
      "70\n",
      "117\n"
     ]
    }
   ],
   "source": [
    "numbers = [12, 25, 33, 47]\n",
    "\n",
    "total = 0 \n",
    "for num in numbers:\n",
    "    total = total + num #total += number\n",
    "    print(total)"
   ]
  },
  {
   "cell_type": "code",
   "execution_count": 3,
   "id": "9f6642ae",
   "metadata": {},
   "outputs": [
    {
     "name": "stdout",
     "output_type": "stream",
     "text": [
      "47 12\n",
      "47 37\n",
      "47 70\n",
      "47 117\n"
     ]
    }
   ],
   "source": [
    "numbers = [12, 25, 33, 47]\n",
    "\n",
    "sum = 0\n",
    "for current_number in numbers:\n",
    "    sum = sum + current_number\n",
    "    print(num, sum)\n"
   ]
  },
  {
   "cell_type": "code",
   "execution_count": null,
   "id": "c9544aea",
   "metadata": {},
   "outputs": [],
   "source": [
    "To calculate sum, we need to:\n",
    "\n",
    "\n",
    "- Add 2nd number to 1st number          -> 1st      + 2nd = result\n",
    "- Add 3rd number to (1st + 2nd)         -> result   + 3rd = result\n",
    "- Add 4th number to (1st + 2nd + 3rd)   -> result   + 4th = result -> final\n",
    "\n",
    "\n",
    "-                                       ->      0  + 1st = result\n",
    "\n",
    "- Add 2nd number to 1st number          -> result  + 2nd = result\n",
    "- Add 3rd number to (1st + 2nd)         -> result  + 3rd = result\n",
    "- Add 4th number to (1st + 2nd + 3rd)   -> result  + 4th = result -> final\n",
    "\n",
    "\n",
    "-                                       ->             0 = result\n",
    "-                                       -> result  + item_in_numbers = result\n",
    "\n",
    "- Add 2nd number to 1st number          -> result  + item_in_numbers = result\n",
    "- Add 3rd number to (1st + 2nd)         -> result  + item_in_numbers = result\n",
    "- Add 4th number to (1st + 2nd + 3rd)   -> result  + item_in_numbers = result -> final\n",
    "\n",
    "\n",
    "\n",
    "result = 0 \n",
    "for num in numbers:\n",
    "    # result  + item_in_numbers = result\n",
    "    result = result + num\n",
    "\n",
    "\n",
    "-                                       -> result0  + num = result1\n",
    "\n",
    "- Add 2nd number to 1st number          -> result1  + num = result2\n",
    "- Add 3rd number to (1st + 2nd)         -> result2  + num = result3\n",
    "- Add 4th number to (1st + 2nd + 3rd)   -> result3  + num = result4\n",
    "\n",
    "-                                       -> result4 = sum\n",
    "\n",
    "\n",
    "- Access the 1st number, add the 1st number to the sum (which is 0 initially) -> new sum = 12\n",
    "- Access the 2nd number, add the 2nd number to the sum (which is now 12) -> new sum = 37\n",
    "- Access the 3rd number, add the 3rd number to the sum (which is now 37) -> new sum = 70\n",
    "- Access the 4th number, add the 4th number to the sum (which is now 70) -> new sum = 117\n",
    "\n",
    "sum = 0\n",
    "for num in numbers: \n",
    "    sum = sum + num"
   ]
  },
  {
   "attachments": {},
   "cell_type": "markdown",
   "id": "76a93a6c",
   "metadata": {},
   "source": [
    "Ref:\n",
    "\n",
    "For Loop: https://www.coursera.org/learn/java-programming/lecture/2Vw7Q/seven-steps-in-action-developing-an-algorithm "
   ]
  },
  {
   "cell_type": "code",
   "execution_count": 4,
   "id": "ba5927ea",
   "metadata": {},
   "outputs": [
    {
     "name": "stdout",
     "output_type": "stream",
     "text": [
      "Total: 117 - Average: 29.25\n"
     ]
    }
   ],
   "source": [
    "numbers = [12, 25, 33, 47]\n",
    "\n",
    "total = 0\n",
    "length = 0\n",
    "for num in numbers:\n",
    "\t\ttotal += num\n",
    "\t\tlength += 1\n",
    "print(f\"Total: {total} - Average: {total / length}\")"
   ]
  },
  {
   "cell_type": "code",
   "execution_count": 5,
   "id": "2cbba723",
   "metadata": {},
   "outputs": [
    {
     "name": "stdout",
     "output_type": "stream",
     "text": [
      "117\n"
     ]
    }
   ],
   "source": [
    "numbers = [12, 25, 33, 47]\n",
    "\n",
    "total = 0\n",
    "for num in numbers: \n",
    "\t\ttotal = total + num\n",
    "\n",
    "print(total)"
   ]
  },
  {
   "cell_type": "code",
   "execution_count": 6,
   "id": "53a1bc12",
   "metadata": {},
   "outputs": [
    {
     "name": "stdout",
     "output_type": "stream",
     "text": [
      "12\n",
      "37\n",
      "70\n",
      "117\n",
      "Final result 117\n"
     ]
    }
   ],
   "source": [
    "numbers = [12, 25, 33, 47]\n",
    "\n",
    "total = 0\n",
    "for num in numbers: \n",
    "\t\ttotal = total + num\n",
    "\t\tprint(total)\n",
    "\n",
    "print(f\"Final result {total}\")"
   ]
  },
  {
   "cell_type": "code",
   "execution_count": 6,
   "id": "d7cd646f",
   "metadata": {},
   "outputs": [
    {
     "data": {
      "text/plain": [
       "4"
      ]
     },
     "execution_count": 6,
     "metadata": {},
     "output_type": "execute_result"
    }
   ],
   "source": [
    "numbers = [12, 25, 33, 47]\n",
    "\n",
    "len(numbers)\n"
   ]
  },
  {
   "cell_type": "code",
   "execution_count": 8,
   "id": "cd199441",
   "metadata": {},
   "outputs": [
    {
     "name": "stdout",
     "output_type": "stream",
     "text": [
      "4\n"
     ]
    }
   ],
   "source": [
    "numbers = [12, 25, 33, 47]\n",
    "prev_point = 0\n",
    "\n",
    "for num in numbers:\n",
    "\tprev_point = prev_point + 1\n",
    "\n",
    "print(prev_point)"
   ]
  },
  {
   "cell_type": "code",
   "execution_count": null,
   "id": "f91ce985",
   "metadata": {},
   "outputs": [],
   "source": []
  }
 ],
 "metadata": {
  "kernelspec": {
   "display_name": "Python 3 (ipykernel)",
   "language": "python",
   "name": "python3"
  },
  "language_info": {
   "codemirror_mode": {
    "name": "ipython",
    "version": 3
   },
   "file_extension": ".py",
   "mimetype": "text/x-python",
   "name": "python",
   "nbconvert_exporter": "python",
   "pygments_lexer": "ipython3",
   "version": "3.9.13"
  }
 },
 "nbformat": 4,
 "nbformat_minor": 5
}
